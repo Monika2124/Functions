{
  "nbformat": 4,
  "nbformat_minor": 0,
  "metadata": {
    "colab": {
      "provenance": []
    },
    "kernelspec": {
      "name": "python3",
      "display_name": "Python 3"
    },
    "language_info": {
      "name": "python"
    }
  },
  "cells": [
    {
      "cell_type": "markdown",
      "source": [
        "#Theory Questions:\n",
        "  "
      ],
      "metadata": {
        "id": "67mARBwZQLn2"
      }
    },
    {
      "cell_type": "markdown",
      "source": [
        "#Q 1. What is the difference between a function and a method in Python?\n",
        "-\n",
        "  - Function: A function is a block of code that performs a specific task and is defined independently. It is called directly by its name and can accept arguments as input and return a value.\n",
        "  -Method: A method is also a block of code that performs a specific task, but it is associated with an object (an instance of a class). It is called on an object using dot notation (object.method()) and can access and modify the object's data is like a recipe you can use anywhere. A method is like a recipe that belongs to a specific object (like a list or string).\n",
        "      Example:\n",
        "      def greet(name):\n",
        "      return \"Hello \" + name\n",
        "      print(greet(\"Alice\"))  # Output: Hello Alice\n",
        "   -  Method\n",
        "     [link text](https://)(belongs to string object)\n",
        "     message = \"hello\"\n",
        "     print(message.upper())  # Output: HELLO\n"
      ],
      "metadata": {
        "id": "vVrA7tzMQLrH"
      }
    },
    {
      "cell_type": "markdown",
      "source": [
        "#Q2. Explain the concept of function arguments and parameters in Python.\n",
        "-\n",
        "  -In Python, function parameters are the variables listed inside the parentheses in the function definition. They act as placeholders for the values that will be passed to the function when it's called. Function arguments are the actual values that are passed to the function when it's called. These values are assigned to the corresponding parameters within the function.\n"
      ],
      "metadata": {
        "id": "pw9CM8QYQLtv"
      }
    },
    {
      "cell_type": "code",
      "source": [
        "def add(a, b):  # a and b are parameters\n",
        "    return a + b\n",
        "\n",
        "print(add(3, 4))  # 3 and 4 are arguments\n"
      ],
      "metadata": {
        "colab": {
          "base_uri": "https://localhost:8080/"
        },
        "id": "S953B6GnRKun",
        "outputId": "f4bbf902-df43-4bb5-ea29-9495fd22e13a"
      },
      "execution_count": 1,
      "outputs": [
        {
          "output_type": "stream",
          "name": "stdout",
          "text": [
            "7\n"
          ]
        }
      ]
    },
    {
      "cell_type": "markdown",
      "source": [
        "#Q 3. What are the different ways to define and call a function in Python?\n",
        "-\n",
        "  -Standard Function Definition\n",
        "This is the most common way to define a function, using the def keyword, followed by the function name, parentheses for arguments, and a colon. The function body is indented.\n",
        "  \n",
        "  -Lambda Functions (Anonymous Functions)\n",
        "Lambda functions are small, anonymous functions defined using the lambda keyword. They can take any number of arguments but can only have one expression\n",
        "\n",
        "  -Functions within Classes (Methods)\n",
        "When a function is defined within a class, it's called a method. It can be called using an instance of the class.\n"
      ],
      "metadata": {
        "id": "tBccYqseQLye"
      }
    },
    {
      "cell_type": "code",
      "source": [
        "# Regular function\n",
        "def say_hello():\n",
        "    print(\"Hello!\")\n",
        "\n",
        "say_hello()\n",
        "\n",
        "Method Function -\n",
        "class Calculator:\n",
        "    def add(self, x, y):\n",
        "        return x + y\n",
        "\n",
        "calc = Calculator()\n",
        "result = calc.add(10, 2)  # Calling the method\n",
        "print(result)  # Output: 12\n",
        "# Lambda function (anonymous function)\n",
        "square = lambda x: x * x\n",
        "print(square(5))  # Output: 25"
      ],
      "metadata": {
        "id": "7fHpkNdbRWAI"
      },
      "execution_count": null,
      "outputs": []
    },
    {
      "cell_type": "markdown",
      "source": [
        "#Q 4. What is the purpose of the `return` statement in a Python function?\n",
        "-\n",
        "The primary purpose of the return statement in a Python function is to send a value back to the part of the program that called the function. It also signals the end of the function's execution. When a return statement is encountered, the function immediately stops running and control is passed back to the caller."
      ],
      "metadata": {
        "id": "T9gFm5iAQL2r"
      }
    },
    {
      "cell_type": "code",
      "source": [
        "def multiply(x, y):\n",
        "    return x * y\n",
        "\n",
        "result = multiply(3, 4)\n",
        "print(result)  # Output: 12"
      ],
      "metadata": {
        "id": "8s5JAxRQRgXI"
      },
      "execution_count": null,
      "outputs": []
    },
    {
      "cell_type": "markdown",
      "source": [
        "#Q5. What are iterators in Python and how do they differ from iterables?\n",
        "-\n",
        "  -Iterable = a thing you can loop through (like list, string)\n",
        "  -Iterator = a tool that lets you go through each item one by one.\n",
        "[link text](https://)\n"
      ],
      "metadata": {
        "id": "64LRR_qMQL4-"
      }
    },
    {
      "cell_type": "code",
      "source": [
        "# List is an iterable\n",
        "nums = [1, 2, 3]\n",
        "\n",
        "# Create iterator from iterable\n",
        "it = iter(nums)\n",
        "print(next(it))  # Output: 1\n",
        "print(next(it))  # Output: 2"
      ],
      "metadata": {
        "id": "-cd8pwevRonS"
      },
      "execution_count": null,
      "outputs": []
    },
    {
      "cell_type": "markdown",
      "source": [
        "#Q6. 6. Explain the concept of generators in Python and how they are defined.\n",
        "-\n",
        "   -A generator function is a special type of function that returns an iterator object. Instead of using return to send back a single value, generator functions use yield to produce a series of results over time. This allows the function to generate values and pause its execution after each yield, maintaining its state between iterations.\n",
        "\n",
        "Basic Code Example:\n"
      ],
      "metadata": {
        "id": "VI6TgK6TQL6x"
      }
    },
    {
      "cell_type": "code",
      "source": [
        "def fun(max):\n",
        "    cnt = 1\n",
        "    while cnt <= max:\n",
        "        yield cnt\n",
        "        cnt += 1\n",
        "\n",
        "ctr = fun(5)\n",
        "for n in ctr:\n",
        "    print(n)"
      ],
      "metadata": {
        "id": "PNhly_cAV5O9"
      },
      "execution_count": null,
      "outputs": []
    },
    {
      "cell_type": "markdown",
      "source": [
        "#Q 7. What are the advantages of using generators over regular functions?\n",
        "-\n",
        "  Generators offer several advantages over regular functions, primarily stemming from their lazy evaluation and state-saving capabilities. These benefits include memory efficiency, the ability to represent infinite sequences, and the creation of data processing pipelines\n",
        "\n"
      ],
      "metadata": {
        "id": "-i2SfhsSQL-A"
      }
    },
    {
      "cell_type": "code",
      "source": [
        "def generate_numbers():\n",
        "    for i in range(1, 1000000):\n",
        "        yield i\n",
        "\n",
        "# This won't eat all your memory at once!"
      ],
      "metadata": {
        "id": "3X_qJkS4R78m"
      },
      "execution_count": null,
      "outputs": []
    },
    {
      "cell_type": "markdown",
      "source": [
        "Q8. What is a lambda function in Python and when is it typically used?\n",
        "\n",
        "In Python, a lambda function (also called an anonymous function) is a concise way to create a small, single-purpose function. It's defined using the lambda keyword and typically used when you need a short function for immediate use, often within another function or as a callback"
      ],
      "metadata": {
        "id": "bmfXS-u8WGrJ"
      }
    },
    {
      "cell_type": "code",
      "source": [
        "double = lambda x: x * 2\n",
        "print(double(4))  # Output: 8\n",
        "Used in sorting, map(), filter(), etc."
      ],
      "metadata": {
        "id": "XUnNGshuSBWM"
      },
      "execution_count": null,
      "outputs": []
    },
    {
      "cell_type": "markdown",
      "source": [
        "#Q9. Explain the purpose and usage of the `map()` function in Python.\n",
        "-\n",
        "  -map() applies a function to every item in a list (or iterable).\n"
      ],
      "metadata": {
        "id": "rX8Mo1VRQMA-"
      }
    },
    {
      "cell_type": "code",
      "source": [
        "nums = [1, 2, 3, 4]\n",
        "squared = map(lambda x: x ** 2, nums)\n",
        "print(list(squared))  # Output: [1, 4, 9, 16]\n"
      ],
      "metadata": {
        "id": "QQ9ZzCx0SOYd"
      },
      "execution_count": null,
      "outputs": []
    },
    {
      "cell_type": "markdown",
      "source": [
        "#Q10. What is the difference between `map()`, `reduce()`, and `filter()` functions in Python?\n",
        "-\n",
        "  -map():\n",
        "Applies a given function to each item of an iterable (e.g., list, tuple) and returns an iterator that yields the results. It transforms each element individually.\n",
        "\n",
        " -filter():\n",
        "Constructs an iterator from elements of an iterable for which a function returns true. It selectively keeps elements based on a condition.\n",
        "\n",
        " -reduce():\n",
        "Applies a function of two arguments cumulatively to the items of a sequence, from left to right, to reduce the sequence to a single value. It aggregates elements.\n",
        "\n",
        "\n"
      ],
      "metadata": {
        "id": "di25GiAHQMD5"
      }
    },
    {
      "cell_type": "code",
      "source": [
        "from functools import reduce\n",
        "\n",
        "nums = [1, 2, 3, 4]\n",
        "\n",
        "# map\n",
        "print(list(map(lambda x: x * 2, nums)))  # [2, 4, 6, 8]\n",
        "\n",
        "# filter\n",
        "print(list(filter(lambda x: x % 2 == 0, nums)))  # [2, 4]\n",
        "\n",
        "# reduce\n",
        "print(reduce(lambda x, y: x + y, nums))  # 10"
      ],
      "metadata": {
        "id": "9VCZaMYbSs0m"
      },
      "execution_count": null,
      "outputs": []
    },
    {
      "cell_type": "markdown",
      "source": [
        "Q- Using pen & Paper write the internal mechanism for sum operation using  reduce function on this given\n",
        "list:[47,11,42,13];\n",
        "\n",
        "_ Attached in [doc](https://docs.google.com/document/d/1M3NgvBHGenR_XBH7gRx7xyMasDXh7bh4OSs2NDdBVAw/edit?usp=sharing) as an image. Please refer the same\n"
      ],
      "metadata": {
        "id": "AgL8PzwpS2wf"
      }
    },
    {
      "cell_type": "markdown",
      "source": [
        "# PRACTICAL QUESTIONS"
      ],
      "metadata": {
        "id": "pR7AU8a_5W-6"
      }
    },
    {
      "cell_type": "code",
      "source": [
        "#Q1 Write a Python function that takes a list of numbers as input and returns the sum of all even numbers in the list\n",
        "\n",
        "sample_list = [1, 2, 3, 4]\n",
        "result = sum_even_numbers(sample_list)\n",
        "print(result)\n"
      ],
      "metadata": {
        "colab": {
          "base_uri": "https://localhost:8080/"
        },
        "id": "mjaOqGuQ5Sn-",
        "outputId": "0fc4911a-73d2-4b2b-b37f-4e72736b0460"
      },
      "execution_count": 6,
      "outputs": [
        {
          "output_type": "stream",
          "name": "stdout",
          "text": [
            "6\n"
          ]
        }
      ]
    },
    {
      "cell_type": "code",
      "source": [
        "#Q2 2. Create a Python function that accepts a string and returns the reverse of that string.\n",
        "\n",
        "def reverse_string(s):\n",
        "\n",
        "    return s[::-1]\n",
        "\n",
        "original = \"Monika\"\n",
        "\n",
        "reversed_str = reverse_string(original)\n",
        "\n",
        "print(reversed_str)\n"
      ],
      "metadata": {
        "colab": {
          "base_uri": "https://localhost:8080/"
        },
        "id": "k_v2Lr445UMw",
        "outputId": "b53be74f-4679-4597-c90b-4a0f84668b71"
      },
      "execution_count": 15,
      "outputs": [
        {
          "output_type": "stream",
          "name": "stdout",
          "text": [
            "akinoM\n"
          ]
        }
      ]
    },
    {
      "cell_type": "code",
      "source": [
        "#Q3. Implement a Python function that takes a list of integers and returns a new list containing the squares of each number\n",
        "\n",
        "def squared_list(numbers):\n",
        "    squared = [x ** 2 for x in numbers]\n",
        "    return squared\n",
        "\n",
        "original_list = [1, 2, 3, 4, 5, 6]\n",
        "\n",
        "squared_list = squared_list(original_list)\n",
        "\n",
        "print(squared_list)"
      ],
      "metadata": {
        "colab": {
          "base_uri": "https://localhost:8080/"
        },
        "id": "Oep2kI8l5UJQ",
        "outputId": "c72957ca-2c3d-47c3-b4ca-c89ceff2b5e5"
      },
      "execution_count": 24,
      "outputs": [
        {
          "output_type": "stream",
          "name": "stdout",
          "text": [
            "[1, 4, 9, 16, 25, 36]\n"
          ]
        }
      ]
    },
    {
      "cell_type": "code",
      "source": [
        "#Q4. Write a Python function that checks if a given number is prime or not from 1 to 200.\n",
        "\n",
        "def is_prime(num):\n",
        "    if num < 2:\n",
        "        return False\n",
        "    for i in range(2, int(num ** 0.5) + 1):\n",
        "        if num % i == 0:\n",
        "            return False\n",
        "    return True\n",
        "\n",
        "for num in range(1, 201):\n",
        "    if is_prime(num):\n",
        "        print(num, end=\" \")"
      ],
      "metadata": {
        "colab": {
          "base_uri": "https://localhost:8080/"
        },
        "id": "lik65PZ95UG_",
        "outputId": "3962a4b1-570a-4697-edc9-047f999e0612"
      },
      "execution_count": 25,
      "outputs": [
        {
          "output_type": "stream",
          "name": "stdout",
          "text": [
            "2 3 5 7 11 13 17 19 23 29 31 37 41 43 47 53 59 61 67 71 73 79 83 89 97 101 103 107 109 113 127 131 137 139 149 151 157 163 167 173 179 181 191 193 197 199 "
          ]
        }
      ]
    },
    {
      "cell_type": "code",
      "source": [
        "#Q5. Create an iterator class in Python that generates the Fibonacci sequence up to a specified number of terms\n",
        "\n",
        "class FibonacciIterator:\n",
        "    def __init__(self, terms):\n",
        "        self.terms = terms\n",
        "        self.count = 0\n",
        "        self.a, self.b = 0, 1\n",
        "\n",
        "    def __iter__(self):\n",
        "        return self\n",
        "\n",
        "    def __next__(self):\n",
        "        if self.count < self.terms:\n",
        "            fib = self.a\n",
        "            self.a, self.b = self.b, self.a + self.b\n",
        "            self.count += 1\n",
        "            return fib\n",
        "        else:\n",
        "            raise StopIteration\n",
        "\n",
        "# Create an iterator for the first 10 Fibonacci numbers\n",
        "fib_iter = FibonacciIterator(10)\n",
        "\n",
        "# Iterate through the Fibonacci numbers\n",
        "for num in fib_iter:\n",
        "    print(num, end=\" \")"
      ],
      "metadata": {
        "colab": {
          "base_uri": "https://localhost:8080/"
        },
        "id": "xdXJgvDF5UEt",
        "outputId": "e8366f8f-85c7-4b98-a008-e6d19369d625"
      },
      "execution_count": 31,
      "outputs": [
        {
          "output_type": "stream",
          "name": "stdout",
          "text": [
            "0 1 1 2 3 5 8 13 21 34 "
          ]
        }
      ]
    },
    {
      "cell_type": "code",
      "source": [
        "#Q6. Write a generator function in Python that yields the powers of 2 up to a given exponent.\n",
        "\n",
        "def powers_of_two(exponent):\n",
        "    for i in range(exponent + 1):\n",
        "        yield 2 ** i\n",
        "\n",
        "for power in powers_of_two(5):\n",
        "    print(power)"
      ],
      "metadata": {
        "colab": {
          "base_uri": "https://localhost:8080/"
        },
        "id": "dJ77grYN5UCd",
        "outputId": "085ce654-70b2-4efc-81df-f6e4e83c4362"
      },
      "execution_count": 33,
      "outputs": [
        {
          "output_type": "stream",
          "name": "stdout",
          "text": [
            "1\n",
            "2\n",
            "4\n",
            "8\n",
            "16\n",
            "32\n"
          ]
        }
      ]
    },
    {
      "cell_type": "code",
      "source": [
        "#Q7. Implement a generator function that reads a file line by line and yields each line as a string.\n",
        "\n",
        "def read_file_lines(filepath):\n",
        "    \"\"\"\n",
        "    Reads a file line by line and yields each line as a string.\n",
        "\n",
        "    Args:\n",
        "        filepath (str): The path to the file.\n",
        "\n",
        "    Yields:\n",
        "        str: Each line of the file.\n",
        "    \"\"\"\n",
        "    try:\n",
        "        with open(filepath, 'r') as file:\n",
        "            for line in file:\n",
        "                yield line\n",
        "    except FileNotFoundError:\n",
        "        yield f\"File not found: {filepath}\"\n",
        "\n",
        "\n",
        "# Example usage\n",
        "if __name__ == '__main__':\n",
        "    # Create a dummy text file for testing\n",
        "    with open('example.txt', 'w') as f:\n",
        "        f.write(\"I am Monika.\\n\")\n",
        "        f.write(\"I am working.\\n\")\n",
        "        f.write(\"I am experienced.\")\n",
        "\n",
        "    # Read the file line by line using the generator\n",
        "    for line in read_file_lines('example.txt'):\n",
        "        print(line, end='')\n",
        "\n",
        "    # Clean up the dummy file\n",
        "    import os\n",
        "    os.remove('example.txt')\n"
      ],
      "metadata": {
        "colab": {
          "base_uri": "https://localhost:8080/"
        },
        "id": "9b16wog_5T_9",
        "outputId": "2f5ad29f-02cb-4439-8fb2-75e9c6c73950"
      },
      "execution_count": 57,
      "outputs": [
        {
          "output_type": "stream",
          "name": "stdout",
          "text": [
            "I am Monika.\n",
            "I am working.\n",
            "I am experienced."
          ]
        }
      ]
    },
    {
      "cell_type": "code",
      "source": [
        "#Q8. Use a lambda function in Python to sort a list of tuples based on the second element of each tuple.\n",
        "\n",
        "\n",
        "# Input list of tuples\n",
        "a = [(1, 'Monika'), (2, 'Tiwari'), (3, 'Mishra')]\n",
        "\n",
        "# Define the specific order\n",
        "order = ['Tiwari', 'Monika', 'Mishra']\n",
        "\n",
        "# Sort the list of tuples based on the specific order\n",
        "res = sorted(a, key=lambda x: order.index(x[1]))\n",
        "print(res)"
      ],
      "metadata": {
        "colab": {
          "base_uri": "https://localhost:8080/"
        },
        "id": "ndlN68RO5T9p",
        "outputId": "e8e3d0a2-2d3f-4f6c-e777-3993067386d1"
      },
      "execution_count": 55,
      "outputs": [
        {
          "output_type": "stream",
          "name": "stdout",
          "text": [
            "[(2, 'Tiwari'), (1, 'Monika'), (3, 'Mishra')]\n"
          ]
        }
      ]
    },
    {
      "cell_type": "code",
      "source": [
        "#Q9. Write a Python program that uses `map()` to convert a list of temperatures from Celsius to Fahrenheit.\n",
        "\n",
        "c = 47\n",
        "\n",
        "# Converting the temperature to Fahrenheit using the formula\n",
        "f = (c * 1.8) + 32\n",
        "\n",
        "print(str(c))\n",
        "print(str(f))"
      ],
      "metadata": {
        "colab": {
          "base_uri": "https://localhost:8080/"
        },
        "id": "veuN8nHW5T7J",
        "outputId": "fec159a4-b6bc-4a62-c8f5-9be13e720ead"
      },
      "execution_count": 1,
      "outputs": [
        {
          "output_type": "stream",
          "name": "stdout",
          "text": [
            "47\n",
            "116.60000000000001\n"
          ]
        }
      ]
    },
    {
      "cell_type": "code",
      "source": [
        "#Q 10. Create a Python program that uses `filter()` to remove all the vowels from a given string.\n",
        "def remove_vowels_list(s):\n",
        "    vowels = 'aeiouAEIOU'\n",
        "    return ''.join([c for c in s if c not in vowels])\n",
        "\n",
        "print(remove_vowels_list(\"Hello World\"))"
      ],
      "metadata": {
        "colab": {
          "base_uri": "https://localhost:8080/"
        },
        "id": "DT8LDnmn5T3H",
        "outputId": "7e64ae0a-222f-48bb-c31b-ac75e9553f8f"
      },
      "execution_count": 9,
      "outputs": [
        {
          "output_type": "stream",
          "name": "stdout",
          "text": [
            "Hll Wrld\n"
          ]
        }
      ]
    },
    {
      "cell_type": "code",
      "source": [
        "#Q11) Imagine an accounting routine used in a book shop. It works on a list with sublists, which look like this:\n",
        "\n",
        "#Write a Python program, which returns a list with 2-tuples. Each tuple consists of the order number and the\n",
        "#product of the price per item and the quantity. The product should be increased by 10,- € if the value of the\n",
        "#order is smaller than 100,00 €.\n",
        "\n",
        "#Write a Python program using lambda and map\n",
        "\n",
        "\n",
        "#Each sublist is like [order_id, item, price_per_item, quantity]\n",
        "\n",
        "orders = [\n",
        "    [101, \"Book\", 15, 3],\n",
        "    [102, \"Pen\", 5, 2],\n",
        "    [103, \"Notebook\", 20, 6],]\n",
        "\n",
        "result = list(map(lambda order: (\n",
        "    order[0],\n",
        "    order[2] * order[3] if order[2] * order[3] >= 100 else order[2] * order[3] + 10), orders))\n",
        "\n",
        "print(result)\n"
      ],
      "metadata": {
        "colab": {
          "base_uri": "https://localhost:8080/"
        },
        "id": "RMgi1k_Q5T0r",
        "outputId": "7b76ede1-cef2-4b24-c527-95f61db0abdf"
      },
      "execution_count": 12,
      "outputs": [
        {
          "output_type": "stream",
          "name": "stdout",
          "text": [
            "[(101, 55), (102, 20), (103, 120)]\n"
          ]
        }
      ]
    },
    {
      "cell_type": "code",
      "source": [],
      "metadata": {
        "id": "QLOkP2NS5TyD"
      },
      "execution_count": null,
      "outputs": []
    },
    {
      "cell_type": "code",
      "source": [],
      "metadata": {
        "id": "4eIcQyX_5Tvw"
      },
      "execution_count": null,
      "outputs": []
    },
    {
      "cell_type": "code",
      "source": [],
      "metadata": {
        "id": "yOZhHGyf5Tso"
      },
      "execution_count": null,
      "outputs": []
    },
    {
      "cell_type": "code",
      "source": [],
      "metadata": {
        "id": "HrZioJf15TqE"
      },
      "execution_count": null,
      "outputs": []
    },
    {
      "cell_type": "code",
      "source": [],
      "metadata": {
        "id": "-edEEi8W5TnY"
      },
      "execution_count": null,
      "outputs": []
    },
    {
      "cell_type": "code",
      "source": [],
      "metadata": {
        "id": "CibyhEHH5TlA"
      },
      "execution_count": null,
      "outputs": []
    },
    {
      "cell_type": "code",
      "source": [],
      "metadata": {
        "id": "A6iukD_n5Ti-"
      },
      "execution_count": null,
      "outputs": []
    },
    {
      "cell_type": "code",
      "source": [],
      "metadata": {
        "id": "2kihkZ_V5Tgk"
      },
      "execution_count": null,
      "outputs": []
    },
    {
      "cell_type": "code",
      "source": [],
      "metadata": {
        "id": "srIEgZd45Tdw"
      },
      "execution_count": null,
      "outputs": []
    },
    {
      "cell_type": "code",
      "source": [],
      "metadata": {
        "id": "G-ryE4Cu5TbE"
      },
      "execution_count": null,
      "outputs": []
    },
    {
      "cell_type": "code",
      "source": [],
      "metadata": {
        "id": "L6ljyCzZ5TZS"
      },
      "execution_count": null,
      "outputs": []
    },
    {
      "cell_type": "code",
      "source": [],
      "metadata": {
        "id": "xSdkpvNf5TW2"
      },
      "execution_count": null,
      "outputs": []
    },
    {
      "cell_type": "code",
      "source": [],
      "metadata": {
        "id": "vNVutt8-5TT6"
      },
      "execution_count": null,
      "outputs": []
    },
    {
      "cell_type": "code",
      "source": [],
      "metadata": {
        "id": "gRk4LlxA5TRK"
      },
      "execution_count": null,
      "outputs": []
    },
    {
      "cell_type": "code",
      "source": [],
      "metadata": {
        "id": "hgmVZBEl5TOT"
      },
      "execution_count": null,
      "outputs": []
    },
    {
      "cell_type": "code",
      "source": [],
      "metadata": {
        "id": "D0Rn33NH5TL5"
      },
      "execution_count": null,
      "outputs": []
    }
  ]
}